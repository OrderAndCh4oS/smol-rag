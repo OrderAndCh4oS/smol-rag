{
 "cells": [
  {
   "cell_type": "code",
   "id": "initial_id",
   "metadata": {
    "collapsed": true,
    "ExecuteTime": {
     "end_time": "2025-04-22T11:11:50.201619Z",
     "start_time": "2025-04-22T11:11:50.160783Z"
    }
   },
   "source": [
    "import networkx as nx\n",
    "from ipysigma import Sigma\n",
    "\n",
    "g = nx.read_graphml('../app/data/kg_db.graphml')\n",
    "\n",
    "# Displaying the graph with a size mapped on degree and\n",
    "# a color mapped on a categorical attribute of the nodes\n",
    "sigma = Sigma(\n",
    "    g,\n",
    "    node_size=g.degree,\n",
    "    node_color='category',\n",
    "    node_border_color=\"excerpt_id\",\n",
    "    background_color=\"#ffffff\",\n",
    "    height=800,\n",
    "    start_layout=10\n",
    ")\n",
    "\n",
    "sigma"
   ],
   "outputs": [
    {
     "data": {
      "text/plain": [
       "Sigma(nx.Graph with 827 nodes and 794 edges)"
      ],
      "application/vnd.jupyter.widget-view+json": {
       "version_major": 2,
       "version_minor": 0,
       "model_id": "5d24e999c30a46d889c3369f98809377"
      }
     },
     "execution_count": 11,
     "metadata": {},
     "output_type": "execute_result"
    }
   ],
   "execution_count": 11
  },
  {
   "metadata": {
    "ExecuteTime": {
     "end_time": "2025-04-22T11:11:53.409808Z",
     "start_time": "2025-04-22T11:11:53.406645Z"
    }
   },
   "cell_type": "code",
   "source": [
    "img = sigma.render_snapshot()\n",
    "img"
   ],
   "id": "91543bcfa4281562",
   "outputs": [
    {
     "data": {
      "text/plain": [
       "Output(outputs=({'output_type': 'stream', 'name': 'stdout', 'text': 'Rendering snapshot from widget (are you s…"
      ],
      "application/vnd.jupyter.widget-view+json": {
       "version_major": 2,
       "version_minor": 0,
       "model_id": "52104e0f6c514f80a5098fa21d525e7b"
      }
     },
     "execution_count": 12,
     "metadata": {},
     "output_type": "execute_result"
    }
   ],
   "execution_count": 12
  }
 ],
 "metadata": {
  "kernelspec": {
   "display_name": "Python 3",
   "language": "python",
   "name": "python3"
  },
  "language_info": {
   "codemirror_mode": {
    "name": "ipython",
    "version": 2
   },
   "file_extension": ".py",
   "mimetype": "text/x-python",
   "name": "python",
   "nbconvert_exporter": "python",
   "pygments_lexer": "ipython2",
   "version": "2.7.6"
  }
 },
 "nbformat": 4,
 "nbformat_minor": 5
}
