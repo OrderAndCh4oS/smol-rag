{
 "cells": [
  {
   "cell_type": "code",
   "id": "initial_id",
   "metadata": {
    "collapsed": true,
    "ExecuteTime": {
     "end_time": "2025-04-21T11:31:53.378281Z",
     "start_time": "2025-04-21T11:31:53.317530Z"
    }
   },
   "source": [
    "import networkx as nx\n",
    "from ipysigma import Sigma\n",
    "\n",
    "g = nx.read_graphml('../app/data/kg_db.graphml')\n",
    "\n",
    "# Displaying the graph with a size mapped on degree and\n",
    "# a color mapped on a categorical attribute of the nodes\n",
    "Sigma(\n",
    "    g,\n",
    "    node_size=g.degree,\n",
    "    node_color='category',\n",
    "    node_border_color=\"excerpt_id\",\n",
    "    background_color=\"#ffffff\",\n",
    ")"
   ],
   "outputs": [
    {
     "data": {
      "text/plain": [
       "Sigma(nx.Graph with 827 nodes and 794 edges)"
      ],
      "application/vnd.jupyter.widget-view+json": {
       "version_major": 2,
       "version_minor": 0,
       "model_id": "00e6a107d8944cfa94d39e17d2a584ce"
      }
     },
     "execution_count": 12,
     "metadata": {},
     "output_type": "execute_result"
    }
   ],
   "execution_count": 12
  }
 ],
 "metadata": {
  "kernelspec": {
   "display_name": "Python 3",
   "language": "python",
   "name": "python3"
  },
  "language_info": {
   "codemirror_mode": {
    "name": "ipython",
    "version": 2
   },
   "file_extension": ".py",
   "mimetype": "text/x-python",
   "name": "python",
   "nbconvert_exporter": "python",
   "pygments_lexer": "ipython2",
   "version": "2.7.6"
  }
 },
 "nbformat": 4,
 "nbformat_minor": 5
}
